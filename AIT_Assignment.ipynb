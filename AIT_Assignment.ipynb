{
 "cells": [
  {
   "cell_type": "code",
   "execution_count": 1,
   "id": "80a35f13",
   "metadata": {
    "scrolled": true
   },
   "outputs": [],
   "source": [
    "import pandas as pd\n",
    "import numpy as np\n",
    "import matplotlib.pyplot as plt\n",
    "\n",
    "dset = pd.read_csv(\"dataset.csv\")\n",
    "#print(dset.info)\n",
    "#print(dset.isnull().sum())\n",
    "\n",
    "#got 12372 sets of data\n",
    "#12373 rows\n",
    "#22 columns"
   ]
  },
  {
   "cell_type": "code",
   "execution_count": 2,
   "id": "a4612b3c",
   "metadata": {},
   "outputs": [
    {
     "name": "stdout",
     "output_type": "stream",
     "text": [
      "gender              0\n",
      "age                 0\n",
      "maritalStatus       0\n",
      "children            0\n",
      "education           0\n",
      "income              0\n",
      "destination         0\n",
      "passanger           0\n",
      "weather             0\n",
      "temperature         0\n",
      "time                0\n",
      "visitPub            0\n",
      "visitCoffeeHouse    0\n",
      "visitFastFood       0\n",
      "visitFoodCourt      0\n",
      "visitRestaurant     0\n",
      "storeType           0\n",
      "offerEndSoon        0\n",
      "moreThan5km         0\n",
      "moreThan15km        0\n",
      "sameDirection       0\n",
      "stopBy(y)           0\n",
      "dtype: int64\n"
     ]
    }
   ],
   "source": [
    "#exchange word with number for visiting\n",
    "frequency_mapping = {\n",
    "    'never': 0,\n",
    "    'rarely':1,\n",
    "    'sometimes': 2,\n",
    "    'often': 3,\n",
    "    'very often': 4\n",
    "}\n",
    "\n",
    "# replace with numeric\n",
    "dset['visitPub'] = dset['visitPub'].replace(frequency_mapping)\n",
    "dset['visitCoffeeHouse'] = dset['visitCoffeeHouse'].replace(frequency_mapping)\n",
    "dset['visitFastFood'] = dset['visitFastFood'].replace(frequency_mapping)\n",
    "dset['visitFoodCourt'] = dset['visitFoodCourt'].replace(frequency_mapping)\n",
    "dset['visitRestaurant'] = dset['visitRestaurant'].replace(frequency_mapping)\n",
    "\n",
    "# fill with median\n",
    "dset['visitPub'].fillna(dset['visitPub'].median(), inplace=True)\n",
    "dset['visitCoffeeHouse'].fillna(dset['visitCoffeeHouse'].median(), inplace=True)\n",
    "dset['visitFastFood'].fillna(dset['visitFastFood'].median(), inplace=True)\n",
    "dset['visitFoodCourt'].fillna(dset['visitFoodCourt'].median(), inplace=True)\n",
    "dset['visitRestaurant'].fillna(dset['visitRestaurant'].median(), inplace=True)\n",
    "\n",
    "income_mapping = {\n",
    "    '$87500 - $99999': 93749.5,\n",
    "    '$50000 - $62499': 56249.5,\n",
    "    '$100000 or More': 100000,  #using 10000 as mean\n",
    "    'Less than $12500': 12500,  #using 12500 as mean\n",
    "    '$12500 - $24999': 18749.5,\n",
    "    '$25000 - $37499': 31249.5,\n",
    "    '$75000 - $87499': 81249.5,\n",
    "    '$62500 - $74999': 68749.5,\n",
    "    '$37500 - $49999': 43749.5\n",
    "}\n",
    "\n",
    "# 使用映射字典将收入范围转换为中间值\n",
    "dset['income'] = dset['income'].map(income_mapping)\n",
    "\n",
    "print(dset.isnull().sum())\n",
    "\n"
   ]
  },
  {
   "cell_type": "code",
   "execution_count": 4,
   "id": "e41c8887",
   "metadata": {
    "scrolled": true
   },
   "outputs": [
    {
     "name": "stdout",
     "output_type": "stream",
     "text": [
      "Average Validation Accuracy (K-Fold Cross-Validation): 0.6871161859351391\n"
     ]
    }
   ],
   "source": [
    "from sklearn.metrics import accuracy_score\n",
    "from sklearn.preprocessing import OneHotEncoder\n",
    "from sklearn.model_selection import KFold\n",
    "from sklearn.model_selection import cross_val_score\n",
    "from sklearn.ensemble import GradientBoostingClassifier\n",
    "from sklearn.compose import ColumnTransformer\n",
    "from sklearn.pipeline import Pipeline\n",
    "from sklearn.preprocessing import StandardScaler\n",
    "from sklearn.model_selection import train_test_split\n",
    "import matplotlib.pyplot as plt\n",
    "\n",
    "from sklearn.model_selection import train_test_split\n",
    "from sklearn.preprocessing import StandardScaler\n",
    "\n",
    "numeric_columns = ['age', 'temperature', 'time', 'income', ]\n",
    "categoric_columns = ['gender', 'maritalStatus', 'education', 'destination', 'passanger', 'weather', \n",
    "                     'storeType', 'offerEndSoon']\n",
    "\n",
    "preprocessor = ColumnTransformer(\n",
    "    transformers=[\n",
    "        ('num', StandardScaler(), numeric_columns),\n",
    "        ('cat', OneHotEncoder(), categoric_columns)\n",
    "    ])\n",
    "\n",
    "# 创建Pipeline\n",
    "pipeline = Pipeline([\n",
    "    ('preprocessor', preprocessor)\n",
    "])\n",
    "\n",
    "X = dset.drop('stopBy(y)', axis = 1)\n",
    "y = dset['stopBy(y)']\n",
    "\n",
    "# 对特征进行预处理\n",
    "X_preprocessed = pipeline.fit_transform(X)\n",
    "\n",
    "X_train, X_test, y_train, y_test = train_test_split(X_preprocessed, y, test_size=0.2, random_state=30, stratify=y)\n",
    "\n",
    "\n",
    "\n",
    "kf = KFold(n_splits=20, shuffle=True, random_state=42)\n",
    "accuracies = []\n",
    "\n",
    "for train_index, val_index in kf.split(X_preprocessed):\n",
    "    X_train, X_val = X_preprocessed[train_index], X_preprocessed[val_index]\n",
    "    y_train, y_val = y[train_index], y[val_index]\n",
    "    \n",
    "    # 创建梯度提升分类器\n",
    "    gb_model = GradientBoostingClassifier()\n",
    "\n",
    "    # 训练模型\n",
    "    gb_model.fit(X_train, y_train)\n",
    "\n",
    "    # 预测验证集\n",
    "    y_pred_val = gb_model.predict(X_val)\n",
    "\n",
    "    # 评估模型性能\n",
    "    val_accuracy = accuracy_score(y_val, y_pred_val)\n",
    "    accuracies.append(val_accuracy)\n",
    "    \n",
    "# 计算K折交叉验证的平均准确度\n",
    "average_accuracy = sum(accuracies) / len(accuracies)\n",
    "print(f\"Average Validation Accuracy (K-Fold Cross-Validation): {average_accuracy}\")\n"
   ]
  },
  {
   "cell_type": "code",
   "execution_count": 10,
   "id": "c12ad817",
   "metadata": {},
   "outputs": [
    {
     "name": "stdout",
     "output_type": "stream",
     "text": [
      "Best Parameters: {'learning_rate': 0.1, 'max_depth': 7, 'n_estimators': 150}\n",
      "Best Accuracy: 0.7081840411956886\n",
      "Training Accuracy: 0.8670\n",
      "Training Precision: 0.8678\n",
      "Training Recall: 0.9040\n",
      "Training F1 Score: 0.8855\n"
     ]
    }
   ],
   "source": [
    "\n",
    "from sklearn.model_selection import GridSearchCV\n",
    "import numpy as np\n",
    "import matplotlib.pyplot as plt\n",
    "from sklearn.metrics import accuracy_score, precision_score, recall_score, f1_score, roc_auc_score, roc_curve\n",
    "\n",
    "\n",
    "\n",
    "# 定义超参数网格\n",
    "param_grid = {\n",
    "    'n_estimators': [150, 200],  # 尝试不同的估计器数量\n",
    "    'learning_rate': [0.1],  # 尝试不同的学习速率\n",
    "    'max_depth': [7]  # 尝试不同的树深度\n",
    "}\n",
    "\n",
    "# 创建Gradient Boosting分类器\n",
    "gb_model = GradientBoostingClassifier()\n",
    "gb_model.fit(X_train, y_train)\n",
    "\n",
    "# 创建Grid Search对象\n",
    "grid_search = GridSearchCV(estimator=gb_model, param_grid=param_grid, cv=5, scoring='accuracy')\n",
    "\n",
    "# 在数据上执行Grid Search\n",
    "grid_search.fit(X_train, y_train)\n",
    "\n",
    "# 输出最佳参数和对应的准确度\n",
    "print(\"Best Parameters:\", grid_search.best_params_)\n",
    "print(\"Best Accuracy:\", grid_search.best_score_)\n",
    "\n",
    "best_gb_model = grid_search.best_estimator_\n",
    "\n",
    "# 计算训练准确度\n",
    "y_pred_train = best_gb_model.predict(X_train)\n",
    "\n",
    "train_accuracy = accuracy_score(y_train, y_pred_train)\n",
    "print(f'Training Accuracy: {train_accuracy:.4f}')\n",
    "\n",
    "train_precision = precision_score(y_train, y_pred_train)\n",
    "print(f'Training Precision: {train_precision:.4f}')\n",
    "\n",
    "train_recall = recall_score(y_train, y_pred_train)\n",
    "print(f'Training Recall: {train_recall:.4f}')\n",
    "\n",
    "train_f1 = f1_score(y_train, y_pred_train)\n",
    "print(f'Training F1 Score: {train_f1:.4f}')\n"
   ]
  },
  {
   "cell_type": "code",
   "execution_count": 17,
   "id": "3ed041e1",
   "metadata": {},
   "outputs": [
    {
     "name": "stdout",
     "output_type": "stream",
     "text": [
      "Fold 1 Accuracy1: 0.6840\n",
      "Fold 2 Accuracy1: 0.6905\n",
      "Fold 3 Accuracy1: 0.6924\n",
      "Fold 4 Accuracy1: 0.6791\n",
      "Fold 5 Accuracy1: 0.6766\n",
      "Mean Accuracy1: 0.6845\n"
     ]
    }
   ],
   "source": [
    "from sklearn.model_selection import cross_val_score\n",
    "\n",
    "# Define your Gradient Boosting Classifier\n",
    "gb_model = GradientBoostingClassifier()\n",
    "\n",
    "# Define the preprocessor and pipeline\n",
    "preprocessor = ColumnTransformer(\n",
    "    transformers=[\n",
    "        ('num', StandardScaler(), numeric_columns),\n",
    "        ('cat', OneHotEncoder(), categoric_columns)\n",
    "    ])\n",
    "pipeline = Pipeline([\n",
    "    ('preprocessor', preprocessor),\n",
    "    ('classifier', gb_model)\n",
    "])\n",
    "\n",
    "# Perform cross-validation and calculate accuracy scores\n",
    "cv_scores1 = cross_val_score(pipeline, X, y, cv=5, scoring='accuracy')\n",
    "\n",
    "# Print the accuracy scores for each fold\n",
    "for i, score in enumerate(cv_scores1, start=1):\n",
    "    print(f\"Fold {i} Accuracy1: {score:.4f}\")\n",
    "\n",
    "# Calculate and print the mean accuracy across all folds\n",
    "mean_accuracy = cv_scores1.mean()\n",
    "print(f\"Mean Accuracy1: {mean_accuracy:.4f}\")"
   ]
  },
  {
   "cell_type": "code",
   "execution_count": 11,
   "id": "72b449b3",
   "metadata": {},
   "outputs": [
    {
     "name": "stdout",
     "output_type": "stream",
     "text": [
      "Test Accuracy: 0.8630\n",
      "Test Precision: 0.8679\n",
      "Test Recall: 0.8956\n",
      "Test F1 Score: 0.8815\n"
     ]
    },
    {
     "data": {
      "image/png": "[encoded data removed]",
      "text/plain": [
       "<Figure size 800x600 with 1 Axes>"
      ]
     },
     "metadata": {},
     "output_type": "display_data"
    }
   ],
   "source": [
    "import numpy as np\n",
    "import matplotlib.pyplot as plt\n",
    "from sklearn.metrics import accuracy_score, precision_score, recall_score, f1_score, roc_auc_score, roc_curve\n",
    "from sklearn.model_selection import learning_curve\n",
    "\n",
    "# Assuming you have your model already trained and predictions (y_pred) on the test data.\n",
    "# Replace y_test and y_pred with your actual test labels and predicted labels.\n",
    "\n",
    "# 计算测试准确度\n",
    "y_pred_test = best_gb_model.predict(X_test)\n",
    "\n",
    "# Accuracy\n",
    "test_accuracy = accuracy_score(y_test, y_pred_test)\n",
    "print(f'Test Accuracy: {test_accuracy:.4f}')\n",
    "\n",
    "# Precision\n",
    "test_precision = precision_score(y_test, y_pred_test)\n",
    "print(f'Test Precision: {test_precision:.4f}')\n",
    "\n",
    "# Recall\n",
    "test_recall = recall_score(y_test, y_pred_test)\n",
    "print(f'Test Recall: {test_recall:.4f}')\n",
    "\n",
    "# F1 Score\n",
    "test_f1 = f1_score(y_test, y_pred_test)\n",
    "print(f'Test F1 Score: {test_f1:.4f}')\n",
    "\n",
    "# ROC AUC Score\n",
    "#roc_auc = roc_auc_score(y_test, y_pred_prob)  # Assuming you have predicted probabilities as y_pred_prob\n",
    "#print(f'ROC AUC Score: {roc_auc:.2f}')\n",
    "\n",
    "# ROC Curve\n",
    "# fpr, tpr, thresholds = roc_curve(y_test, y_pred_prob)\n",
    "# plt.figure(figsize=(8, 6))\n",
    "# plt.plot(fpr, tpr, label='ROC Curve')\n",
    "# plt.xlabel('False Positive Rate')\n",
    "# plt.ylabel('True Positive Rate')\n",
    "# plt.title('Receiver Operating Characteristic (ROC) Curve')\n",
    "# plt.legend()\n",
    "# plt.show()\n",
    "\n",
    "# Learning Curve\n",
    "train_sizes, train_scores, test_scores = learning_curve(gb_model, X_train, y_train, cv=5, scoring='accuracy', n_jobs=-1)\n",
    "train_scores_mean = np.mean(train_scores, axis=1)\n",
    "test_scores_mean = np.mean(test_scores, axis=1)\n",
    "plt.figure(figsize=(8, 6))\n",
    "plt.plot(train_sizes, train_scores_mean, label='Training Accuracy')\n",
    "plt.plot(train_sizes, test_scores_mean, label='Validation Accuracy')\n",
    "plt.xlabel('Number of Training Examples')\n",
    "plt.ylabel('Accuracy')\n",
    "plt.title('Learning Curve')\n",
    "plt.legend()\n",
    "plt.show()"
   ]
  },
  {
   "cell_type": "code",
   "execution_count": 19,
   "id": "0c9f8934",
   "metadata": {},
   "outputs": [
    {
     "name": "stdout",
     "output_type": "stream",
     "text": [
      "Fold 1 Accuracy2: 0.6840\n",
      "Fold 2 Accuracy2: 0.6905\n",
      "Fold 3 Accuracy2: 0.6924\n",
      "Fold 4 Accuracy2: 0.6791\n",
      "Fold 5 Accuracy2: 0.6766\n",
      "Mean Accuracy2: 0.6845\n"
     ]
    }
   ],
   "source": [
    "from sklearn.model_selection import cross_val_score\n",
    "\n",
    "# Perform cross-validation and calculate accuracy scores\n",
    "cv_scores2 = cross_val_score(pipeline, X, y, cv=5, scoring='accuracy')\n",
    "\n",
    "# Print the accuracy scores for each fold\n",
    "for i, score in enumerate(cv_scores2, start=1):\n",
    "    print(f\"Fold {i} Accuracy2: {score:.4f}\")\n",
    "\n",
    "# Calculate and print the mean accuracy across all folds\n",
    "mean_accuracy = cv_scores2.mean()\n",
    "print(f\"Mean Accuracy2: {mean_accuracy:.4f}\")"
   ]
  },
  {
   "cell_type": "code",
   "execution_count": null,
   "id": "be1fc3af",
   "metadata": {},
   "outputs": [],
   "source": []
  }
 ],
 "metadata": {
  "kernelspec": {
   "display_name": "Python 3 (ipykernel)",
   "language": "python",
   "name": "python3"
  },
  "language_info": {
   "codemirror_mode": {
    "name": "ipython",
    "version": 3
   },
   "file_extension": ".py",
   "mimetype": "text/x-python",
   "name": "python",
   "nbconvert_exporter": "python",
   "pygments_lexer": "ipython3",
   "version": "3.10.9"
  }
 },
 "nbformat": 4,
 "nbformat_minor": 5
}
